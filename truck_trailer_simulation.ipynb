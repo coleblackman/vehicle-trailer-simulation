{
 "cells": [
  {
   "cell_type": "markdown",
   "metadata": {},
   "source": [
    "# Truck/Trailer Simulation in BeamNG\n",
    "\n",
    "## Cole Blackman"
   ]
  },
  {
   "cell_type": "markdown",
   "metadata": {},
   "source": [
    "## Setup"
   ]
  },
  {
   "cell_type": "code",
   "execution_count": 8,
   "metadata": {},
   "outputs": [],
   "source": [
    "%matplotlib inline\n",
    "import time\n",
    "import matplotlib.pyplot as plt\n",
    "import numpy as np \n",
    "import seaborn as sns\n",
    "from beamngpy import BeamNGpy, Scenario, Vehicle, angle_to_quat\n",
    "from beamngpy.sensors import Electrics\n",
    "sns.set() "
   ]
  },
  {
   "cell_type": "markdown",
   "metadata": {},
   "source": [
    "## Generate scenario"
   ]
  },
  {
   "cell_type": "code",
   "execution_count": 12,
   "metadata": {},
   "outputs": [
    {
     "ename": "KeyboardInterrupt",
     "evalue": "",
     "output_type": "error",
     "traceback": [
      "\u001b[1;31m---------------------------------------------------------------------------\u001b[0m",
      "\u001b[1;31mConnectionResetError\u001b[0m                      Traceback (most recent call last)",
      "File \u001b[1;32mc:\\Users\\coleb\\anaconda3\\Lib\\site-packages\\beamngpy\\connection\\prefixed_length_socket.py:35\u001b[0m, in \u001b[0;36mPrefixedLengthSocket._recv_exactly\u001b[1;34m(self, length)\u001b[0m\n\u001b[0;32m     34\u001b[0m \u001b[38;5;28;01mtry\u001b[39;00m:\n\u001b[1;32m---> 35\u001b[0m     received \u001b[38;5;241m=\u001b[39m \u001b[38;5;28mself\u001b[39m\u001b[38;5;241m.\u001b[39mskt\u001b[38;5;241m.\u001b[39mrecv(\u001b[38;5;28mmin\u001b[39m(BUF_SIZE, length))\n\u001b[0;32m     36\u001b[0m \u001b[38;5;28;01mexcept\u001b[39;00m socket\u001b[38;5;241m.\u001b[39merror:\n",
      "\u001b[1;31mConnectionResetError\u001b[0m: [WinError 10054] An existing connection was forcibly closed by the remote host",
      "\nDuring handling of the above exception, another exception occurred:\n",
      "\u001b[1;31mKeyboardInterrupt\u001b[0m                         Traceback (most recent call last)",
      "Cell \u001b[1;32mIn[12], line 16\u001b[0m\n\u001b[0;32m     13\u001b[0m scenario\u001b[38;5;241m.\u001b[39mmake(beamng)\n\u001b[0;32m     15\u001b[0m \u001b[38;5;66;03m#load in the scenario\u001b[39;00m\n\u001b[1;32m---> 16\u001b[0m beamng\u001b[38;5;241m.\u001b[39mscenario\u001b[38;5;241m.\u001b[39mload(scenario)\n\u001b[0;32m     17\u001b[0m beamng\u001b[38;5;241m.\u001b[39mscenario\u001b[38;5;241m.\u001b[39mstart()\n",
      "File \u001b[1;32mc:\\Users\\coleb\\anaconda3\\Lib\\site-packages\\beamngpy\\api\\beamng\\scenario.py:173\u001b[0m, in \u001b[0;36mScenarioApi.load\u001b[1;34m(self, scenario, precompile_shaders, connect_player_vehicle, connect_existing_vehicles)\u001b[0m\n\u001b[0;32m    170\u001b[0m         vehicle\u001b[38;5;241m.\u001b[39mdisconnect()\n\u001b[0;32m    172\u001b[0m data \u001b[38;5;241m=\u001b[39m {\u001b[38;5;124m'\u001b[39m\u001b[38;5;124mtype\u001b[39m\u001b[38;5;124m'\u001b[39m: \u001b[38;5;124m'\u001b[39m\u001b[38;5;124mLoadScenario\u001b[39m\u001b[38;5;124m'\u001b[39m, \u001b[38;5;124m'\u001b[39m\u001b[38;5;124mpath\u001b[39m\u001b[38;5;124m'\u001b[39m: scenario\u001b[38;5;241m.\u001b[39mpath, \u001b[38;5;124m'\u001b[39m\u001b[38;5;124mprecompileShaders\u001b[39m\u001b[38;5;124m'\u001b[39m: precompile_shaders}\n\u001b[1;32m--> 173\u001b[0m \u001b[38;5;28mself\u001b[39m\u001b[38;5;241m.\u001b[39m_send(data)\u001b[38;5;241m.\u001b[39mack(\u001b[38;5;124m'\u001b[39m\u001b[38;5;124mMapLoaded\u001b[39m\u001b[38;5;124m'\u001b[39m)\n\u001b[0;32m    174\u001b[0m \u001b[38;5;28mself\u001b[39m\u001b[38;5;241m.\u001b[39m_logger\u001b[38;5;241m.\u001b[39minfo(\u001b[38;5;124m'\u001b[39m\u001b[38;5;124mLoaded map.\u001b[39m\u001b[38;5;124m'\u001b[39m)\n\u001b[0;32m    175\u001b[0m \u001b[38;5;28mself\u001b[39m\u001b[38;5;241m.\u001b[39m_beamng\u001b[38;5;241m.\u001b[39m_scenario \u001b[38;5;241m=\u001b[39m scenario\n",
      "File \u001b[1;32mc:\\Users\\coleb\\anaconda3\\Lib\\site-packages\\beamngpy\\connection\\connection.py:275\u001b[0m, in \u001b[0;36mResponse.ack\u001b[1;34m(self, ack_type)\u001b[0m\n\u001b[0;32m    274\u001b[0m \u001b[38;5;28;01mdef\u001b[39;00m \u001b[38;5;21mack\u001b[39m(\u001b[38;5;28mself\u001b[39m, ack_type: \u001b[38;5;28mstr\u001b[39m) \u001b[38;5;241m-\u001b[39m\u001b[38;5;241m>\u001b[39m \u001b[38;5;28;01mNone\u001b[39;00m:\n\u001b[1;32m--> 275\u001b[0m     message \u001b[38;5;241m=\u001b[39m \u001b[38;5;28mself\u001b[39m\u001b[38;5;241m.\u001b[39mrecv()\n\u001b[0;32m    276\u001b[0m     \u001b[38;5;28;01mif\u001b[39;00m message[\u001b[38;5;124m'\u001b[39m\u001b[38;5;124mtype\u001b[39m\u001b[38;5;124m'\u001b[39m] \u001b[38;5;241m!=\u001b[39m ack_type:\n\u001b[0;32m    277\u001b[0m         \u001b[38;5;28;01mraise\u001b[39;00m BNGError(\u001b[38;5;124mf\u001b[39m\u001b[38;5;124m'\u001b[39m\u001b[38;5;124mWrong ACK: \u001b[39m\u001b[38;5;132;01m{\u001b[39;00mack_type\u001b[38;5;132;01m}\u001b[39;00m\u001b[38;5;124m != \u001b[39m\u001b[38;5;132;01m{\u001b[39;00mmessage[\u001b[38;5;124m\"\u001b[39m\u001b[38;5;124mtype\u001b[39m\u001b[38;5;124m\"\u001b[39m]\u001b[38;5;132;01m}\u001b[39;00m\u001b[38;5;124m'\u001b[39m)\n",
      "File \u001b[1;32mc:\\Users\\coleb\\anaconda3\\Lib\\site-packages\\beamngpy\\connection\\connection.py:267\u001b[0m, in \u001b[0;36mResponse.recv\u001b[1;34m(self, type)\u001b[0m\n\u001b[0;32m    266\u001b[0m \u001b[38;5;28;01mdef\u001b[39;00m \u001b[38;5;21mrecv\u001b[39m(\u001b[38;5;28mself\u001b[39m, \u001b[38;5;28mtype\u001b[39m: \u001b[38;5;28mstr\u001b[39m \u001b[38;5;241m|\u001b[39m \u001b[38;5;28;01mNone\u001b[39;00m \u001b[38;5;241m=\u001b[39m \u001b[38;5;28;01mNone\u001b[39;00m) \u001b[38;5;241m-\u001b[39m\u001b[38;5;241m>\u001b[39m StrDict:\n\u001b[1;32m--> 267\u001b[0m     message \u001b[38;5;241m=\u001b[39m \u001b[38;5;28mself\u001b[39m\u001b[38;5;241m.\u001b[39mconnection\u001b[38;5;241m.\u001b[39mrecv(\u001b[38;5;28mself\u001b[39m\u001b[38;5;241m.\u001b[39mreq_id)\n\u001b[0;32m    268\u001b[0m     \u001b[38;5;28;01mif\u001b[39;00m \u001b[38;5;28misinstance\u001b[39m(message, \u001b[38;5;167;01mException\u001b[39;00m):\n\u001b[0;32m    269\u001b[0m         \u001b[38;5;28;01mraise\u001b[39;00m message\n",
      "File \u001b[1;32mc:\\Users\\coleb\\anaconda3\\Lib\\site-packages\\beamngpy\\connection\\connection.py:209\u001b[0m, in \u001b[0;36mConnection.recv\u001b[1;34m(self, req_id)\u001b[0m\n\u001b[0;32m    207\u001b[0m     \u001b[38;5;28;01mraise\u001b[39;00m BNGError(\u001b[38;5;124m'\u001b[39m\u001b[38;5;124mCannot receive, not connected to the simulator.\u001b[39m\u001b[38;5;124m'\u001b[39m)\n\u001b[0;32m    208\u001b[0m \u001b[38;5;28;01mwhile\u001b[39;00m \u001b[38;5;28;01mTrue\u001b[39;00m:\n\u001b[1;32m--> 209\u001b[0m     message \u001b[38;5;241m=\u001b[39m \u001b[38;5;28mself\u001b[39m\u001b[38;5;241m.\u001b[39mskt\u001b[38;5;241m.\u001b[39mrecv()\n\u001b[0;32m    210\u001b[0m     message \u001b[38;5;241m=\u001b[39m \u001b[38;5;28mself\u001b[39m\u001b[38;5;241m.\u001b[39m_unpack_data(message)\n\u001b[0;32m    211\u001b[0m     \u001b[38;5;28;01mif\u001b[39;00m \u001b[38;5;129;01mnot\u001b[39;00m \u001b[38;5;124m'\u001b[39m\u001b[38;5;124m_id\u001b[39m\u001b[38;5;124m'\u001b[39m \u001b[38;5;129;01min\u001b[39;00m message:\n",
      "File \u001b[1;32mc:\\Users\\coleb\\anaconda3\\Lib\\site-packages\\beamngpy\\connection\\prefixed_length_socket.py:63\u001b[0m, in \u001b[0;36mPrefixedLengthSocket.recv\u001b[1;34m(self)\u001b[0m\n\u001b[0;32m     62\u001b[0m \u001b[38;5;28;01mdef\u001b[39;00m \u001b[38;5;21mrecv\u001b[39m(\u001b[38;5;28mself\u001b[39m) \u001b[38;5;241m-\u001b[39m\u001b[38;5;241m>\u001b[39m \u001b[38;5;28mbytes\u001b[39m:\n\u001b[1;32m---> 63\u001b[0m     packed_length \u001b[38;5;241m=\u001b[39m \u001b[38;5;28mself\u001b[39m\u001b[38;5;241m.\u001b[39m_recv_exactly(\u001b[38;5;28mself\u001b[39m\u001b[38;5;241m.\u001b[39mHEADER_BYTES)\n\u001b[0;32m     64\u001b[0m     length \u001b[38;5;241m=\u001b[39m unpack(\u001b[38;5;124m'\u001b[39m\u001b[38;5;124m!I\u001b[39m\u001b[38;5;124m'\u001b[39m, packed_length)[\u001b[38;5;241m0\u001b[39m]\n\u001b[0;32m     66\u001b[0m     message \u001b[38;5;241m=\u001b[39m \u001b[38;5;28mself\u001b[39m\u001b[38;5;241m.\u001b[39m_recv_exactly(length)\n",
      "File \u001b[1;32mc:\\Users\\coleb\\anaconda3\\Lib\\site-packages\\beamngpy\\connection\\prefixed_length_socket.py:37\u001b[0m, in \u001b[0;36mPrefixedLengthSocket._recv_exactly\u001b[1;34m(self, length)\u001b[0m\n\u001b[0;32m     35\u001b[0m     received \u001b[38;5;241m=\u001b[39m \u001b[38;5;28mself\u001b[39m\u001b[38;5;241m.\u001b[39mskt\u001b[38;5;241m.\u001b[39mrecv(\u001b[38;5;28mmin\u001b[39m(BUF_SIZE, length))\n\u001b[0;32m     36\u001b[0m \u001b[38;5;28;01mexcept\u001b[39;00m socket\u001b[38;5;241m.\u001b[39merror:\n\u001b[1;32m---> 37\u001b[0m     \u001b[38;5;28mself\u001b[39m\u001b[38;5;241m.\u001b[39mreconnect()\n\u001b[0;32m     38\u001b[0m     received \u001b[38;5;241m=\u001b[39m \u001b[38;5;28mself\u001b[39m\u001b[38;5;241m.\u001b[39mskt\u001b[38;5;241m.\u001b[39mrecv(\u001b[38;5;28mmin\u001b[39m(BUF_SIZE, length))\n\u001b[0;32m     39\u001b[0m \u001b[38;5;28;01mif\u001b[39;00m \u001b[38;5;129;01mnot\u001b[39;00m received:\n",
      "File \u001b[1;32mc:\\Users\\coleb\\anaconda3\\Lib\\site-packages\\beamngpy\\connection\\prefixed_length_socket.py:72\u001b[0m, in \u001b[0;36mPrefixedLengthSocket.reconnect\u001b[1;34m(self)\u001b[0m\n\u001b[0;32m     69\u001b[0m \u001b[38;5;28;01mdef\u001b[39;00m \u001b[38;5;21mclose\u001b[39m(\u001b[38;5;28mself\u001b[39m) \u001b[38;5;241m-\u001b[39m\u001b[38;5;241m>\u001b[39m \u001b[38;5;28;01mNone\u001b[39;00m:\n\u001b[0;32m     70\u001b[0m     \u001b[38;5;28mself\u001b[39m\u001b[38;5;241m.\u001b[39mskt\u001b[38;5;241m.\u001b[39mclose()\n\u001b[1;32m---> 72\u001b[0m \u001b[38;5;28;01mdef\u001b[39;00m \u001b[38;5;21mreconnect\u001b[39m(\u001b[38;5;28mself\u001b[39m) \u001b[38;5;241m-\u001b[39m\u001b[38;5;241m>\u001b[39m \u001b[38;5;28;01mNone\u001b[39;00m:\n\u001b[0;32m     73\u001b[0m \u001b[38;5;250m    \u001b[39m\u001b[38;5;124;03m\"\"\"\u001b[39;00m\n\u001b[0;32m     74\u001b[0m \u001b[38;5;124;03m    Attempts to re-connect using this instance, with the cached port and host.\u001b[39;00m\n\u001b[0;32m     75\u001b[0m \u001b[38;5;124;03m    This will be called if a connection has been lost, in order to re-establish the connection.\u001b[39;00m\n\u001b[0;32m     76\u001b[0m \u001b[38;5;124;03m    \"\"\"\u001b[39;00m\n\u001b[0;32m     77\u001b[0m     \u001b[38;5;28mself\u001b[39m\u001b[38;5;241m.\u001b[39mskt \u001b[38;5;241m=\u001b[39m \u001b[38;5;28mself\u001b[39m\u001b[38;5;241m.\u001b[39m_initialize_socket()\n",
      "\u001b[1;31mKeyboardInterrupt\u001b[0m: "
     ]
    }
   ],
   "source": [
    "beamng = BeamNGpy('localhost', 64256, './BeamNG.tech.v0.31.3.0(1)/BeamNG.tech.v0.31.3.0', None, \"/Users/coleb/AppData/Local/BeamNG.tech\")\n",
    "beamng.open()\n",
    "\n",
    "# add a truck\n",
    "truck = Vehicle('ego', model='gavrilD', license='PYTHON', color='Green')\n",
    "#trailer = Vehicle('trailer', model='gavril')\n",
    "# add a sensor to the truck using Electrics\n",
    "electrics = Electrics()\n",
    "truck.sensors.attach('electrics', electrics)\n",
    "# create our scenario\n",
    "scenario = Scenario('west_coast_usa', 'vehicle_state')\n",
    "scenario.add_vehicle(truck, pos=(-717.121, 101, 118.675), rot_quat=angle_to_quat((0, 0, 45)))\n",
    "scenario.make(beamng)"
   ]
  },
  {
   "cell_type": "markdown",
   "metadata": {},
   "source": [
    "## Run the scenario"
   ]
  },
  {
   "cell_type": "code",
   "execution_count": null,
   "metadata": {},
   "outputs": [],
   "source": [
    "#load in the scenario\n",
    "beamng.scenario.load(scenario)\n",
    "beamng.scenario.start()  # After loading, the simulator waits for further input to actually start"
   ]
  }
 ],
 "metadata": {
  "kernelspec": {
   "display_name": "base",
   "language": "python",
   "name": "python3"
  },
  "language_info": {
   "codemirror_mode": {
    "name": "ipython",
    "version": 3
   },
   "file_extension": ".py",
   "mimetype": "text/x-python",
   "name": "python",
   "nbconvert_exporter": "python",
   "pygments_lexer": "ipython3",
   "version": "3.11.4"
  }
 },
 "nbformat": 4,
 "nbformat_minor": 2
}
